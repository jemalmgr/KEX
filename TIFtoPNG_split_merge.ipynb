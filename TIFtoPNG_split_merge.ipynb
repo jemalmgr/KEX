{
  "nbformat": 4,
  "nbformat_minor": 0,
  "metadata": {
    "colab": {
      "provenance": []
    },
    "kernelspec": {
      "name": "python3",
      "display_name": "Python 3"
    },
    "language_info": {
      "name": "python"
    }
  },
  "cells": [
    {
      "cell_type": "code",
      "source": [
        "from google.colab import drive\n",
        "drive.mount('/content/drive')"
      ],
      "metadata": {
        "id": "cLx25z_39go9",
        "colab": {
          "base_uri": "https://localhost:8080/"
        },
        "outputId": "cc41a991-13da-4431-a69b-46a25eb675c1"
      },
      "execution_count": null,
      "outputs": [
        {
          "output_type": "stream",
          "name": "stdout",
          "text": [
            "Mounted at /content/drive\n"
          ]
        }
      ]
    },
    {
      "cell_type": "code",
      "source": [
        "pip install rasterio"
      ],
      "metadata": {
        "colab": {
          "base_uri": "https://localhost:8080/"
        },
        "id": "6qz9EJO4uOTh",
        "outputId": "64a7c5b0-2588-4e44-9c62-8df60ecc84a7"
      },
      "execution_count": null,
      "outputs": [
        {
          "output_type": "stream",
          "name": "stdout",
          "text": [
            "Looking in indexes: https://pypi.org/simple, https://us-python.pkg.dev/colab-wheels/public/simple/\n",
            "Collecting rasterio\n",
            "  Downloading rasterio-1.3.7-cp310-cp310-manylinux_2_17_x86_64.manylinux2014_x86_64.whl (21.3 MB)\n",
            "\u001b[2K     \u001b[90m━━━━━━━━━━━━━━━━━━━━━━━━━━━━━━━━━━━━━━━━\u001b[0m \u001b[32m21.3/21.3 MB\u001b[0m \u001b[31m58.1 MB/s\u001b[0m eta \u001b[36m0:00:00\u001b[0m\n",
            "\u001b[?25hCollecting affine (from rasterio)\n",
            "  Downloading affine-2.4.0-py3-none-any.whl (15 kB)\n",
            "Requirement already satisfied: attrs in /usr/local/lib/python3.10/dist-packages (from rasterio) (23.1.0)\n",
            "Requirement already satisfied: certifi in /usr/local/lib/python3.10/dist-packages (from rasterio) (2022.12.7)\n",
            "Requirement already satisfied: click>=4.0 in /usr/local/lib/python3.10/dist-packages (from rasterio) (8.1.3)\n",
            "Collecting cligj>=0.5 (from rasterio)\n",
            "  Downloading cligj-0.7.2-py3-none-any.whl (7.1 kB)\n",
            "Requirement already satisfied: numpy>=1.18 in /usr/local/lib/python3.10/dist-packages (from rasterio) (1.22.4)\n",
            "Collecting snuggs>=1.4.1 (from rasterio)\n",
            "  Downloading snuggs-1.4.7-py3-none-any.whl (5.4 kB)\n",
            "Collecting click-plugins (from rasterio)\n",
            "  Downloading click_plugins-1.1.1-py2.py3-none-any.whl (7.5 kB)\n",
            "Requirement already satisfied: setuptools in /usr/local/lib/python3.10/dist-packages (from rasterio) (67.7.2)\n",
            "Requirement already satisfied: pyparsing>=2.1.6 in /usr/local/lib/python3.10/dist-packages (from snuggs>=1.4.1->rasterio) (3.0.9)\n",
            "Installing collected packages: snuggs, cligj, click-plugins, affine, rasterio\n",
            "Successfully installed affine-2.4.0 click-plugins-1.1.1 cligj-0.7.2 rasterio-1.3.7 snuggs-1.4.7\n"
          ]
        }
      ]
    },
    {
      "cell_type": "markdown",
      "source": [
        "#TIFF to PNG"
      ],
      "metadata": {
        "id": "_Ej-1Mve1waQ"
      }
    },
    {
      "cell_type": "code",
      "source": [
        "import rasterio\n",
        "from rasterio.plot import reshape_as_image\n",
        "import numpy as np\n",
        "import imageio\n",
        "\n",
        "def convert_geotiff_to_png(input_path, output_path):\n",
        "    with rasterio.open(input_path) as dataset:\n",
        "        # Read the image bands\n",
        "        data = dataset.read()\n",
        "\n",
        "        # Normalize the image data to the range of 0 to 1\n",
        "        normalized_data = (data - np.min(data)) / (np.max(data) - np.min(data))\n",
        "\n",
        "        # Reshape the normalized image bands to a 2D array\n",
        "        image = reshape_as_image(normalized_data)\n",
        "\n",
        "        # Save the image as PNG without alpha channel\n",
        "        imageio.imwrite(output_path, (image * 255).astype(np.uint8))\n",
        "\n",
        "# Usage example\n",
        "'''\n",
        "input_path = '/content/drive/MyDrive/earthengine/AobjectShadowsMasked.tif'\n",
        "output_path = '/content/drive/MyDrive/Temporary/AobjectShadowsMasked.png'\n",
        "convert_geotiff_to_png(input_path, output_path)\n",
        "\n",
        "input_path = '/content/drive/MyDrive/earthengine/KObjectShadowsMasked.tif'\n",
        "output_path = '/content/drive/MyDrive/Temporary/KObjectShadowsMasked.png'\n",
        "convert_geotiff_to_png(input_path, output_path)\n",
        "'''"
      ],
      "metadata": {
        "id": "JMORXb24neUB"
      },
      "execution_count": null,
      "outputs": []
    },
    {
      "cell_type": "markdown",
      "source": [
        "#Splitting\n"
      ],
      "metadata": {
        "id": "7nGUiKQs1nkq"
      }
    },
    {
      "cell_type": "code",
      "source": [
        "!pip install pillow"
      ],
      "metadata": {
        "colab": {
          "base_uri": "https://localhost:8080/"
        },
        "id": "9xpKYXbY1zR4",
        "outputId": "1e7b0350-4642-47cb-c62d-21d2ae2ba798"
      },
      "execution_count": null,
      "outputs": [
        {
          "output_type": "stream",
          "name": "stdout",
          "text": [
            "Looking in indexes: https://pypi.org/simple, https://us-python.pkg.dev/colab-wheels/public/simple/\n",
            "Requirement already satisfied: pillow in /usr/local/lib/python3.10/dist-packages (8.4.0)\n"
          ]
        }
      ]
    },
    {
      "cell_type": "code",
      "source": [
        "\n",
        "from PIL import Image\n",
        "\n",
        "def split_image(image_path, output_directory, piece_size):\n",
        "    # Open the image using PIL\n",
        "    image = Image.open(image_path)\n",
        "\n",
        "    # Get the dimensions of the image\n",
        "    width, height = image.size\n",
        "\n",
        "    # Calculate the number of pieces in both dimensions\n",
        "    num_pieces_x = width // piece_size\n",
        "    num_pieces_y = height // piece_size\n",
        "    n = 0\n",
        "    # Iterate over the image and extract each piece\n",
        "    for y in range(num_pieces_y):\n",
        "        for x in range(num_pieces_x):\n",
        "            # Calculate the coordinates for each piece\n",
        "            left = x * piece_size\n",
        "            upper = y * piece_size\n",
        "            right = left + piece_size\n",
        "            lower = upper + piece_size\n",
        "\n",
        "            # Crop the image to extract the piece\n",
        "            piece = image.crop((left, upper, right, lower))\n",
        "\n",
        "            # Save the piece with a unique name\n",
        "            output_path = f\"{output_directory}/piece_{n}.png\"\n",
        "            piece.save(output_path)\n",
        "            n = n + 1\n",
        "\n",
        "# Usage examples\n",
        "'''\n",
        "input_image_path = '/content/drive/MyDrive/Temporary/ACoperBeforeSplitResized.png'\n",
        "output_directory = '/content/drive/MyDrive/Temporary/Coper'\n",
        "piece_size = 1024\n",
        "\n",
        "split_image(input_image_path, output_directory, piece_size)\n",
        "\n",
        "input_image_path = '/content/drive/MyDrive/Samhällsbyggnadsprogrammet/KEX/Results/KObjectBasedResized.png'\n",
        "output_directory = '/content/drive/MyDrive/Temporary/Object'\n",
        "\n",
        "split_image(input_image_path, output_directory, piece_size)\n",
        "'''"
      ],
      "metadata": {
        "id": "HvO3R2xIyKaf"
      },
      "execution_count": null,
      "outputs": []
    },
    {
      "cell_type": "markdown",
      "source": [
        "All images have 7 images on each row, meaning that the first row starts on image 0 and the second one starts on image 7\n"
      ],
      "metadata": {
        "id": "yww-yrth5HXR"
      }
    },
    {
      "cell_type": "markdown",
      "source": [
        "#Re-merge images\n",
        "\n",
        "Antioch has 70 images, meaning x = 7, y = 10"
      ],
      "metadata": {
        "id": "nyt2x4iiWH2T"
      }
    },
    {
      "cell_type": "code",
      "source": [
        "from PIL import Image\n",
        "import os\n",
        "\n",
        "def extract_number_from_filename(filename):\n",
        "    # Extract the number from the filename\n",
        "    return int(os.path.splitext(filename)[0].split(\"_\")[1])\n",
        "\n",
        "def combine_images(input_directory, output_image_path, images_per_row):\n",
        "    # Get a list of all the image files in the input directory\n",
        "    image_files = sorted(os.listdir(input_directory), key=extract_number_from_filename)\n",
        "\n",
        "    # Open the first image to get the dimensions\n",
        "    first_image = Image.open(os.path.join(input_directory, image_files[0]))\n",
        "    width, height = first_image.size\n",
        "\n",
        "    # Calculate the number of rows and columns\n",
        "    num_images = len(image_files)\n",
        "    num_rows = (num_images + images_per_row - 1) // images_per_row\n",
        "    num_columns = min(num_images, images_per_row)\n",
        "\n",
        "    # Create a new blank image to hold the combined pieces\n",
        "    combined_image = Image.new(\"RGBA\", (width * num_columns, height * num_rows))\n",
        "\n",
        "    # Iterate over the image files and paste each piece onto the combined image\n",
        "    for i, image_file in enumerate(image_files):\n",
        "        piece = Image.open(os.path.join(input_directory, image_file))\n",
        "        x = i % images_per_row\n",
        "        y = i // images_per_row\n",
        "        left = x * width\n",
        "        upper = y * height\n",
        "        combined_image.paste(piece, (left, upper))\n",
        "\n",
        "    # Save the combined image\n",
        "    combined_image.save(output_image_path)\n",
        "\n",
        "# Usage examples\n",
        "'''\n",
        "input_directory = \"/content/drive/MyDrive/Temporary/Coper\"\n",
        "output_image_path = \"/content/drive/MyDrive/Temporary/ACoperRemergedV2.png\"\n",
        "images_per_row = 7\n",
        "combine_images(input_directory, output_image_path, images_per_row)\n",
        "\n",
        "input_directory = '/content/drive/MyDrive/Temporary/Object'\n",
        "output_image_path = \"/content/drive/MyDrive/Temporary/ObjectRemerged.png\"\n",
        "combine_images(input_directory, output_image_path, images_per_row)\n",
        "'''"
      ],
      "metadata": {
        "id": "qa9VEg6gaj1E"
      },
      "execution_count": null,
      "outputs": []
    }
  ]
}